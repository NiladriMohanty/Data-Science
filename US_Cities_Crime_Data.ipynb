{
 "cells": [
  {
   "cell_type": "code",
   "execution_count": null,
   "metadata": {
    "collapsed": false
   },
   "outputs": [],
   "source": [
    "import pandas as pd\n",
    "import numpy as np\n",
    "import matplotlib.pyplot as plt\n",
    "%matplotlib inline\n"
   ]
  },
  {
   "cell_type": "code",
   "execution_count": null,
   "metadata": {
    "collapsed": true
   },
   "outputs": [],
   "source": [
    "#Loading San Francisco data\n",
    "sf_data = pd.read_csv('sanfrancisco_incidents_summer_2014.csv')\n",
    "\n",
    "#Unique days in the data\n",
    "days = sf_data['DayOfWeek'].unique()\n",
    "\n",
    "#Initialisation\n",
    "sf_crime_count_per_day = np.zeros(np.count_nonzero(days))\n",
    "sf_data_day_cate_num = {}\n",
    "sf_data_day_cate_name = {}\n",
    "\n",
    "#Counter\n",
    "count = 0\n",
    "\n",
    "#Calculating crimes on each day of the week\n",
    "for dayName in days:\n",
    "    sf_data_day = (sf_data.loc[sf_data['DayOfWeek'] == dayName])\n",
    "    sf_crime_count_per_day[count] = sf_data_day['IncidntNum'].count()\n",
    "    \n",
    "    #Grouping crimes for each day by \"Category\"\n",
    "    sf_data_day_cate = sf_data_day.groupby('Category')\n",
    "    sf_data_day_cate_count = sf_data_day_cate.apply(lambda x: len(x))\n",
    "    sf_data_day_cate_countF = sf_data_day_cate_count.to_frame(name='Crime')\n",
    "    sf_data_day_cate_countF.sort(columns='Crime', ascending=False, inplace=True)\n",
    "    sf_data_day_cate_num[dayName] = sf_data_day_cate_countF.values\n",
    "    sf_data_day_cate_name[dayName] = sf_data_day_cate_countF.index.tolist()\n",
    "    \n",
    "    count += 1\n",
    "\n"
   ]
  },
  {
   "cell_type": "code",
   "execution_count": null,
   "metadata": {
    "collapsed": false
   },
   "outputs": [],
   "source": [
    "#Showing crimes per day of the week by bar plot\n",
    "fig,ax = plt.subplots()\n",
    "ax.bar(np.arange(count), sf_crime_count_per_day, color='r')\n",
    "ax.set_ylabel('Crimes')\n",
    "ax.set_title('Crimes by Day of Week')\n",
    "ax.set_xticklabels(days,rotation=40)\n"
   ]
  },
  {
   "cell_type": "markdown",
   "metadata": {},
   "source": [
    "From above figure, it is clear that most crimes happen on Friday"
   ]
  },
  {
   "cell_type": "code",
   "execution_count": null,
   "metadata": {
    "collapsed": false
   },
   "outputs": [],
   "source": [
    "#Top 5 crimes for each day of the week in San Francisco\n",
    "plt.rcParams['xtick.labelsize'] = 9\n",
    "\n",
    "for dayName in days:\n",
    "    fig, ax = plt.subplots()\n",
    "    ax.bar(np.arange(len(sf_data_day_cate_name[dayName][:5])), sf_data_day_cate_num[dayName][:5], color='r')\n",
    "    ax.set_xticklabels(sf_data_day_cate_name[dayName],rotation=40)\n",
    "    ax.set_xlabel('Crimes')\n",
    "    ax.set_title('Different Crimes on %s' %dayName)\n"
   ]
  },
  {
   "cell_type": "markdown",
   "metadata": {},
   "source": [
    "Above 7 figures show crime categorised for each day of the week.\n",
    "Theft is most common on each day of the week."
   ]
  }
 ],
 "metadata": {
  "kernelspec": {
   "display_name": "Python 2",
   "language": "python",
   "name": "python2"
  },
  "language_info": {
   "codemirror_mode": {
    "name": "ipython",
    "version": 2
   },
   "file_extension": ".py",
   "mimetype": "text/x-python",
   "name": "python",
   "nbconvert_exporter": "python",
   "pygments_lexer": "ipython2",
   "version": "2.7.9"
  }
 },
 "nbformat": 4,
 "nbformat_minor": 0
}
